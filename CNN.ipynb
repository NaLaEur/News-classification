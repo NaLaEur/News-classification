{
 "cells": [
  {
   "cell_type": "code",
   "execution_count": 1,
   "metadata": {},
   "outputs": [],
   "source": [
    "import os"
   ]
  },
  {
   "cell_type": "markdown",
   "metadata": {},
   "source": [
    "#### 1 加载数据"
   ]
  },
  {
   "cell_type": "code",
   "execution_count": 2,
   "metadata": {},
   "outputs": [],
   "source": [
    "train_texts  = open ('train_contents.txt', encoding = 'utf-8').read().split ('\\n')\n",
    "train_labels = open ('train_labels.txt', encoding = 'utf-8').read().split ('\\n')\n",
    "test_texts   = open (\"test_contents.txt\", encoding = 'utf-8').read().split ('\\n')\n",
    "test_labels  = open (\"test_labels.txt\", encoding = 'utf-8').read().split('\\n')\n",
    "\n",
    "all_texts  = train_texts + test_texts\n",
    "all_labels = train_labels + test_labels"
   ]
  },
  {
   "cell_type": "code",
   "execution_count": 8,
   "metadata": {},
   "outputs": [],
   "source": [
    "MAX_SEQUENCE_LENGTH = 100\n",
    "EMBEDDING_DIM = 200\n",
    "VALIDATION_SPLIT = 0.16\n",
    "TEST_SPLIT = 0.2"
   ]
  },
  {
   "cell_type": "markdown",
   "metadata": {},
   "source": [
    "#### 2 进行序列转换"
   ]
  },
  {
   "cell_type": "code",
   "execution_count": 9,
   "metadata": {},
   "outputs": [],
   "source": [
    "from keras.preprocessing.text import Tokenizer\n",
    "from keras.preprocessing.sequence import pad_sequences\n",
    "from keras.utils import to_categorical\n",
    "import numpy as np"
   ]
  },
  {
   "cell_type": "code",
   "execution_count": 7,
   "metadata": {},
   "outputs": [
    {
     "name": "stdout",
     "output_type": "stream",
     "text": [
      "Found 65604 unique tokens.\n"
     ]
    }
   ],
   "source": [
    "tokenizer = Tokenizer()\n",
    "tokenizer.fit_on_texts (all_texts)\n",
    "sequences = tokenizer.texts_to_sequences (all_texts)\n",
    "word_index = tokenizer.word_index\n",
    "print('Found %s unique tokens.' % len(word_index))"
   ]
  },
  {
   "cell_type": "code",
   "execution_count": 10,
   "metadata": {},
   "outputs": [
    {
     "name": "stdout",
     "output_type": "stream",
     "text": [
      "shape of data is : (21924, 100)\n",
      "shape of label is : (21924, 12)\n"
     ]
    }
   ],
   "source": [
    "data = pad_sequences (sequences, maxlen = MAX_SEQUENCE_LENGTH)\n",
    "labels = to_categorical(np.asarray (all_labels))\n",
    "print (\"shape of data is :\", data.shape)\n",
    "print (\"shape of label is :\", labels.shape)"
   ]
  },
  {
   "cell_type": "markdown",
   "metadata": {},
   "source": [
    "#### 3 随机数据并切分数据"
   ]
  },
  {
   "cell_type": "code",
   "execution_count": 11,
   "metadata": {},
   "outputs": [],
   "source": [
    "indices = np.arange (data.shape[0])\n",
    "np.random.shuffle(indices)\n",
    "data = data[indices]\n",
    "labels = labels[indices]\n",
    "\n",
    "p1 = int(len(data)*(1-VALIDATION_SPLIT-TEST_SPLIT))\n",
    "p2 = int(len(data)*(1-TEST_SPLIT))\n",
    "x_train = data[:p1]\n",
    "y_train = labels[:p1]\n",
    "x_val = data[p1:p2]\n",
    "y_val = labels[p1:p2]\n",
    "x_test = data[p2:]\n",
    "y_test = labels[p2:]"
   ]
  },
  {
   "cell_type": "markdown",
   "metadata": {},
   "source": [
    "#### 4 搭建CNN网络"
   ]
  },
  {
   "cell_type": "code",
   "execution_count": 12,
   "metadata": {},
   "outputs": [],
   "source": [
    "from keras.layers import Dense, Input, Flatten, Dropout\n",
    "from keras.layers import Conv1D, MaxPooling1D, Embedding, GlobalMaxPooling1D\n",
    "from keras.models import Sequential"
   ]
  },
  {
   "cell_type": "code",
   "execution_count": 20,
   "metadata": {},
   "outputs": [
    {
     "name": "stdout",
     "output_type": "stream",
     "text": [
      "_________________________________________________________________\n",
      "Layer (type)                 Output Shape              Param #   \n",
      "=================================================================\n",
      "embedding_3 (Embedding)      (None, 100, 200)          13121000  \n",
      "_________________________________________________________________\n",
      "dropout_3 (Dropout)          (None, 100, 200)          0         \n",
      "_________________________________________________________________\n",
      "conv1d_4 (Conv1D)            (None, 98, 250)           150250    \n",
      "_________________________________________________________________\n",
      "max_pooling1d_4 (MaxPooling1 (None, 32, 250)           0         \n",
      "_________________________________________________________________\n",
      "flatten_3 (Flatten)          (None, 8000)              0         \n",
      "_________________________________________________________________\n",
      "dense_5 (Dense)              (None, 200)               1600200   \n",
      "_________________________________________________________________\n",
      "dense_6 (Dense)              (None, 12)                2412      \n",
      "=================================================================\n",
      "Total params: 14,873,862\n",
      "Trainable params: 14,873,862\n",
      "Non-trainable params: 0\n",
      "_________________________________________________________________\n"
     ]
    }
   ],
   "source": [
    "model = Sequential()\n",
    "model.add (Embedding(len(word_index) + 1, EMBEDDING_DIM, input_length = MAX_SEQUENCE_LENGTH))\n",
    "model.add (Dropout(0.2))\n",
    "model.add (Conv1D(250, 3, padding = 'valid', activation = 'relu', strides = 1))\n",
    "model.add(MaxPooling1D(3))\n",
    "model.add(Flatten())\n",
    "model.add(Dense(EMBEDDING_DIM, activation='relu'))\n",
    "model.add(Dense(labels.shape[1], activation='softmax'))\n",
    "model.summary()"
   ]
  },
  {
   "cell_type": "code",
   "execution_count": 21,
   "metadata": {},
   "outputs": [
    {
     "name": "stdout",
     "output_type": "stream",
     "text": [
      "Train on 14031 samples, validate on 3508 samples\n",
      "Epoch 1/2\n",
      "14031/14031 [==============================] - 72s 5ms/step - loss: 1.2813 - acc: 0.5675 - val_loss: 0.6464 - val_acc: 0.7928\n",
      "Epoch 2/2\n",
      "14031/14031 [==============================] - 77s 5ms/step - loss: 0.3774 - acc: 0.8915 - val_loss: 0.5472 - val_acc: 0.8426\n"
     ]
    }
   ],
   "source": [
    "model.compile(loss='categorical_crossentropy',\n",
    "              optimizer='rmsprop',\n",
    "              metrics=['acc'])\n",
    "\n",
    "model.fit(x_train, y_train, validation_data=(x_val, y_val), epochs=2, batch_size=128)\n",
    "model.save('cnn.h5')"
   ]
  },
  {
   "cell_type": "code",
   "execution_count": 19,
   "metadata": {},
   "outputs": [
    {
     "name": "stdout",
     "output_type": "stream",
     "text": [
      "4385/4385 [==============================] - 6s 1ms/step\n",
      "[0.5585867543312951, 0.8223489167616875]\n"
     ]
    }
   ],
   "source": [
    "print (model.evaluate(x_test, y_test))"
   ]
  },
  {
   "cell_type": "code",
   "execution_count": 23,
   "metadata": {},
   "outputs": [
    {
     "name": "stdout",
     "output_type": "stream",
     "text": [
      "Train on 14031 samples, validate on 3508 samples\n",
      "Epoch 1/5\n",
      "14031/14031 [==============================] - 93s 7ms/step - loss: 1.2837 - acc: 0.5521 - val_loss: 0.8196 - val_acc: 0.7175\n",
      "Epoch 2/5\n",
      "14031/14031 [==============================] - 86s 6ms/step - loss: 0.4331 - acc: 0.8602 - val_loss: 0.5575 - val_acc: 0.8310\n",
      "Epoch 3/5\n",
      "14031/14031 [==============================] - 85s 6ms/step - loss: 0.1795 - acc: 0.9456 - val_loss: 0.6363 - val_acc: 0.8446\n",
      "Epoch 4/5\n",
      "14031/14031 [==============================] - 86s 6ms/step - loss: 0.0667 - acc: 0.9794 - val_loss: 0.8739 - val_acc: 0.8381\n",
      "Epoch 5/5\n",
      "14031/14031 [==============================] - 86s 6ms/step - loss: 0.0285 - acc: 0.9914 - val_loss: 1.0360 - val_acc: 0.8438\n",
      "4385/4385 [==============================] - 7s 2ms/step\n",
      "[0.8356609413111444, 0.8581527936145952]\n"
     ]
    }
   ],
   "source": [
    "model = Sequential()\n",
    "model.add (Embedding(len(word_index) + 1, EMBEDDING_DIM, input_length = MAX_SEQUENCE_LENGTH))\n",
    "model.add (Dropout(0.2))\n",
    "model.add (Conv1D(256, 3, padding = 'same', activation = 'relu', strides = 1))\n",
    "model.add(MaxPooling1D(2))\n",
    "model.add (Conv1D(128, 3, padding = 'valid', activation = 'relu', strides = 1))\n",
    "model.add(Flatten())\n",
    "model.add(Dense(EMBEDDING_DIM, activation='relu'))\n",
    "model.add(Dense(labels.shape[1], activation='softmax'))\n",
    "\n",
    "\n",
    "model.compile(loss='categorical_crossentropy',\n",
    "              optimizer='rmsprop',\n",
    "              metrics=['acc'])\n",
    "\n",
    "model.fit(x_train, y_train, validation_data=(x_val, y_val), epochs=5, batch_size=128)\n",
    "\n",
    "print (model.evaluate(x_test, y_test))"
   ]
  },
  {
   "cell_type": "code",
   "execution_count": 24,
   "metadata": {},
   "outputs": [
    {
     "data": {
      "text/plain": [
       "['loss', 'acc']"
      ]
     },
     "execution_count": 24,
     "metadata": {},
     "output_type": "execute_result"
    }
   ],
   "source": [
    "model.metrics_names"
   ]
  },
  {
   "cell_type": "code",
   "execution_count": null,
   "metadata": {},
   "outputs": [],
   "source": []
  }
 ],
 "metadata": {
  "kernelspec": {
   "display_name": "Python 3",
   "language": "python",
   "name": "python3"
  },
  "language_info": {
   "codemirror_mode": {
    "name": "ipython",
    "version": 3
   },
   "file_extension": ".py",
   "mimetype": "text/x-python",
   "name": "python",
   "nbconvert_exporter": "python",
   "pygments_lexer": "ipython3",
   "version": "3.6.5"
  }
 },
 "nbformat": 4,
 "nbformat_minor": 2
}
